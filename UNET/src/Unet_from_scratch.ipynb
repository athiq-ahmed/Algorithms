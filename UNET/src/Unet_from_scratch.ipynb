{
 "cells": [
  {
   "cell_type": "code",
   "execution_count": 2,
   "metadata": {},
   "outputs": [],
   "source": [
    "import torch\n",
    "import torch.nn as nn"
   ]
  },
  {
   "cell_type": "code",
   "execution_count": 5,
   "metadata": {},
   "outputs": [],
   "source": [
    "def double_conv(in_channels, out_channels):\n",
    "    conv = nn.Sequential(\n",
    "        nn.Conv2d(in_channels, out_channels, kernel_size=3),\n",
    "        nn.ReLU(inplace=True),\n",
    "        nn.Conv2d(out_channels, out_channels, kernel_size=3),\n",
    "        nn.ReLU(inplace=True)\n",
    "    )\n",
    "    return conv"
   ]
  },
  {
   "cell_type": "code",
   "execution_count": 28,
   "metadata": {},
   "outputs": [],
   "source": [
    "def crop_image(tensor, target_size):\n",
    "    tensor_size = tensor.size()[2]\n",
    "    target_size = target_size.size()[2]\n",
    "    delta = tensor_size - target_size\n",
    "    delta = delta // 2\n",
    "    return tensor[:, :, delta:tensor_size-delta, delta:tensor_size-delta]"
   ]
  },
  {
   "cell_type": "code",
   "execution_count": 41,
   "metadata": {},
   "outputs": [],
   "source": [
    "class UNet(nn.Module):\n",
    "    def __init__(self):\n",
    "        super(UNet, self).__init__()\n",
    "\n",
    "        self.max_pool_2x2 = nn.MaxPool2d(kernel_size=2, stride=2)\n",
    "        self.down_conv_1 = double_conv(1,64)\n",
    "        self.down_conv_2 = double_conv(64,128)\n",
    "        self.down_conv_3 = double_conv(128,256)\n",
    "        self.down_conv_4 = double_conv(256,512)\n",
    "        self.down_conv_5 = double_conv(512,1024)\n",
    "\n",
    "        self.up_trans_1 = nn.ConvTranspose2d(in_channels=1024, out_channels=512, stride=2, kernel_size=2)\n",
    "        self.up_conv_1 = double_conv(1024, 512)\n",
    "        self.up_trans_2 = nn.ConvTranspose2d(in_channels=512, out_channels=256, stride=2, kernel_size=2)\n",
    "        self.up_conv_2 = double_conv(512, 256)\n",
    "        self.up_trans_3 = nn.ConvTranspose2d(in_channels=256, out_channels=128, stride=2, kernel_size=2)\n",
    "        self.up_conv_3 = double_conv(256, 128)\n",
    "        self.up_trans_4 = nn.ConvTranspose2d(in_channels=128, out_channels=64, stride=2, kernel_size=2)\n",
    "        self.up_conv_4 = double_conv(128, 64)\n",
    "\n",
    "\n",
    "        self.out = nn.Conv2d(in_channels=64, out_channels=2, stride=2, kernel_size=1)\n",
    "        \n",
    "    def forward(self, image): #batch size, channel, height, width\n",
    "        # encoder \n",
    "        x1 = self.down_conv_1(image);           print(\"x1\", x1.size())\n",
    "        x2 = self.max_pool_2x2(x1);           \n",
    "        x3 = self.down_conv_2(x2);              print(\"x3\", x3.size())\n",
    "        x4 = self.max_pool_2x2(x3);           \n",
    "        x5 = self.down_conv_3(x4);              print(\"x5\", x5.size())\n",
    "        x6 = self.max_pool_2x2(x5);           \n",
    "        x7 = self.down_conv_4(x6);              print(\"x7\", x7.size())\n",
    "        x8 = self.max_pool_2x2(x7);           \n",
    "        x9 = self.down_conv_5(x8);              print(\"x9\", x9.size())\n",
    "\n",
    "\n",
    "        # decoder\n",
    "        x = self.up_trans_1(x9);                print(\"x\", x.size())\n",
    "        y = crop_image(x7, x);                  print(\"y\", y.size())   \n",
    "        x = self.up_conv_1(torch.cat([x,y],1)); print(\"x\", x.size()) \n",
    "\n",
    "        x = self.up_trans_2(x);                 print(\"x\", x.size())\n",
    "        y = crop_image(x5, x);                  print(\"y\", y.size())   \n",
    "        x = self.up_conv_2(torch.cat([x,y],1)); print(\"x\", x.size()) \n",
    "\n",
    "        x = self.up_trans_3(x);                 print(\"x\", x.size())\n",
    "        y = crop_image(x3, x);                  print(\"y\", y.size())   \n",
    "        x = self.up_conv_3(torch.cat([x,y],1)); print(\"x\", x.size()) \n",
    "\n",
    "        x = self.up_trans_4(x);                 print(\"x\", x.size())\n",
    "        y = crop_image(x1, x);                  print(\"y\", y.size())   \n",
    "        x = self.up_conv_4(torch.cat([x,y],1)); print(\"x\", x.size()) \n",
    "\n",
    "        x = self.out(x);                        print(\"x\", x.size()) \n",
    "        return x\n"
   ]
  },
  {
   "cell_type": "code",
   "execution_count": 42,
   "metadata": {},
   "outputs": [
    {
     "name": "stdout",
     "output_type": "stream",
     "text": [
      "x1 torch.Size([1, 64, 568, 568])\n",
      "x3 torch.Size([1, 128, 280, 280])\n",
      "x5 torch.Size([1, 256, 136, 136])\n",
      "x7 torch.Size([1, 512, 64, 64])\n",
      "x9 torch.Size([1, 1024, 28, 28])\n",
      "x torch.Size([1, 512, 56, 56])\n",
      "y torch.Size([1, 512, 56, 56])\n",
      "x torch.Size([1, 512, 52, 52])\n",
      "x torch.Size([1, 256, 104, 104])\n",
      "y torch.Size([1, 256, 104, 104])\n",
      "x torch.Size([1, 256, 100, 100])\n",
      "x torch.Size([1, 128, 200, 200])\n",
      "y torch.Size([1, 128, 200, 200])\n",
      "x torch.Size([1, 128, 196, 196])\n",
      "x torch.Size([1, 64, 392, 392])\n",
      "y torch.Size([1, 64, 392, 392])\n",
      "x torch.Size([1, 64, 388, 388])\n",
      "x torch.Size([1, 2, 194, 194])\n",
      "tensor([[[[0.0641, 0.0668, 0.0605,  ..., 0.0616, 0.0639, 0.0606],\n",
      "          [0.0697, 0.0661, 0.0627,  ..., 0.0616, 0.0625, 0.0629],\n",
      "          [0.0645, 0.0609, 0.0643,  ..., 0.0622, 0.0660, 0.0617],\n",
      "          ...,\n",
      "          [0.0617, 0.0684, 0.0721,  ..., 0.0654, 0.0618, 0.0669],\n",
      "          [0.0638, 0.0607, 0.0615,  ..., 0.0587, 0.0626, 0.0638],\n",
      "          [0.0599, 0.0586, 0.0658,  ..., 0.0650, 0.0633, 0.0586]],\n",
      "\n",
      "         [[0.0741, 0.0788, 0.0724,  ..., 0.0779, 0.0750, 0.0690],\n",
      "          [0.0731, 0.0739, 0.0782,  ..., 0.0698, 0.0750, 0.0718],\n",
      "          [0.0751, 0.0748, 0.0737,  ..., 0.0697, 0.0695, 0.0726],\n",
      "          ...,\n",
      "          [0.0690, 0.0732, 0.0714,  ..., 0.0752, 0.0715, 0.0724],\n",
      "          [0.0744, 0.0759, 0.0730,  ..., 0.0745, 0.0747, 0.0777],\n",
      "          [0.0683, 0.0728, 0.0715,  ..., 0.0717, 0.0702, 0.0681]]]],\n",
      "       grad_fn=<ConvolutionBackward0>)\n"
     ]
    }
   ],
   "source": [
    "image=torch.rand((1,1,572,572))\n",
    "model = UNet()\n",
    "print(model(image))"
   ]
  },
  {
   "cell_type": "code",
   "execution_count": null,
   "metadata": {},
   "outputs": [],
   "source": []
  },
  {
   "cell_type": "code",
   "execution_count": null,
   "metadata": {},
   "outputs": [],
   "source": []
  },
  {
   "cell_type": "code",
   "execution_count": null,
   "metadata": {},
   "outputs": [],
   "source": []
  },
  {
   "cell_type": "code",
   "execution_count": null,
   "metadata": {},
   "outputs": [],
   "source": []
  },
  {
   "cell_type": "code",
   "execution_count": 3,
   "metadata": {},
   "outputs": [],
   "source": [
    "# https://www.mathworks.com/help/vision/ug/getting-started-with-semantic-segmentation-using-deep-learning.html\n",
    "# https://medium.com/@arthur_ouaknine/review-of-deep-learning-algorithms-for-image-semantic-segmentation-509a600f7b57\n",
    "# differenece between classificaiton/object detection/image segmentaion - # https://developer.qualcomm.com/software/qualcomm-neural-processing-sdk/learning-resources/image-segmentation-deeplab-neural-processing-sdk/classification-object-detection-segmentation\n"
   ]
  }
 ],
 "metadata": {
  "kernelspec": {
   "display_name": "Python 3.10.5 ('venv': venv)",
   "language": "python",
   "name": "python3"
  },
  "language_info": {
   "codemirror_mode": {
    "name": "ipython",
    "version": 3
   },
   "file_extension": ".py",
   "mimetype": "text/x-python",
   "name": "python",
   "nbconvert_exporter": "python",
   "pygments_lexer": "ipython3",
   "version": "3.10.5"
  },
  "orig_nbformat": 4,
  "vscode": {
   "interpreter": {
    "hash": "ed9a70250d7f6e48559252f20b81093c9e4a63acbad0ce4d127572bb0ba2513e"
   }
  }
 },
 "nbformat": 4,
 "nbformat_minor": 2
}
